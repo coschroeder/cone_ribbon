{
 "cells": [
  {
   "cell_type": "markdown",
   "metadata": {},
   "source": [
    "# Simulation of glutamate release at a ribbon synapse\n"
   ]
  },
  {
   "cell_type": "markdown",
   "metadata": {},
   "source": [
    "Run this notebook in google colab by clicking here:\n",
    "\n",
    "https://colab.research.google.com/github/coschroeder/cone_ribbon/blob/master/model/interactive_model_plotting/model_demo.ipynb"
   ]
  },
  {
   "cell_type": "markdown",
   "metadata": {},
   "source": [
    "### How to use the notebook\n",
    "You can run the simulation by running the two cells (code boxes) below. For running a cell, you have to click into the cell and press \"Ctrl\"+\"Enter\" or, if you opened the notebook in *google colab* you can click on the small *play* symbol left to the cell. \n",
    "Afterwards you need to change a slider for the simulation to appear. Then change the paramerters and choose the stimulus as you want to.\n",
    "\n",
    "**TL;DR:** Run the cells below and change the values of the parameters with the sliders.\n",
    "\n",
    "### Parameter explanation\n",
    "- **RRP:** Readily releasable pool size of the ribbon\n",
    "- **IP:** Intermediate pool size of the ribbon\n",
    "- **Max. release rate:** Maximal release rate, given as a fraction of the RRP size.\n",
    "- **Stimulus:** \"Light\" stimulus\n",
    "- **Ca kernel (tau):** Time constant of the decay for a double exponential kernel. (For more details of the Calcium simulation see below) \n",
    "- **Time resolution:** Time resolution of the simulation. If you want to simulate high frequencies, decrease the time resolution. This results in longer runtimes, so be patient.\n",
    "- **Track changes:** If you tick this box, five subsequen simulation results will be displayed before the figure is reset.\n",
    "- **Clear plot:** Resets the figure internally for the next plotting event (If *Track changes* is ticked). \n",
    "\n",
    "\n"
   ]
  },
  {
   "cell_type": "code",
   "execution_count": 16,
   "metadata": {},
   "outputs": [
    {
     "name": "stdout",
     "output_type": "stream",
     "text": [
      "/bin/bash: npm: command not found\n",
      "/bin/bash: npx: command not found\n",
      "/bin/bash: npx: command not found\n",
      "The autoreload extension is already loaded. To reload it, use:\n",
      "  %reload_ext autoreload\n"
     ]
    }
   ],
   "source": [
    "# run this cell the first time you use it to load the necessary files\n",
    "!npm install -g degit\n",
    "!npx degit github:coschroeder/cone_ribbon/model/interactive_model_plotting/ -f \n",
    "!npx degit github:coschroeder/cone_ribbon/model/model_implementation/   -f\n",
    "    \n"
   ]
  },
  {
   "cell_type": "code",
   "execution_count": 1,
   "metadata": {},
   "outputs": [],
   "source": [
    "# and import it    \n",
    "%load_ext autoreload\n",
    "%autoreload 2\n",
    "from utils_interactive import Ribbon_Plot"
   ]
  },
  {
   "cell_type": "code",
   "execution_count": 3,
   "metadata": {
    "scrolled": false
   },
   "outputs": [
    {
     "data": {
      "application/vnd.jupyter.widget-view+json": {
       "model_id": "f1d15fc79d5e42d0adcc60c9995a8a5f",
       "version_major": 2,
       "version_minor": 0
      },
      "text/plain": [
       "VBox(children=(GridspecLayout(children=(FloatSlider(value=4.0, continuous_update=False, description='RRP Size:…"
      ]
     },
     "metadata": {},
     "output_type": "display_data"
    }
   ],
   "source": [
    "# Set the figuresize matching best to your browser window/screensize.\n",
    "figuresize = (20,8)\n",
    "\n",
    "ribbon = Ribbon_Plot(figsize=figuresize)"
   ]
  },
  {
   "cell_type": "markdown",
   "metadata": {},
   "source": [
    "### Ca simulation\n",
    "\n",
    "Ca concentration is simulated as following:\n",
    "\n",
    "$$Ca_{concentration}(t) = Ca_{kernel} \\ast \\sigma(light\\_kernel \\ast stimulus(t)),$$\n",
    "\n",
    "where $\\sigma$ is a non-linearty and light_kernel is a biphasic kernel from [1].\n",
    "\n",
    "$Ca_{kernel}$ is a double exponential kernel with fixed time constant $\\tau_{rise}$ and variable decay parameter $\\tau_{decay}$, which can be chosen with the corresponding slider."
   ]
  },
  {
   "cell_type": "markdown",
   "metadata": {},
   "source": [
    "### Literature:\n",
    "\n",
    "[1] Baden, Tom, et al. \"A synaptic mechanism for temporal filtering of visual signals.\" PLoS Biol 12.10 (2014): e1001972.\n"
   ]
  }
 ],
 "metadata": {
  "kernelspec": {
   "display_name": "Python 3",
   "language": "python",
   "name": "python3"
  },
  "language_info": {
   "codemirror_mode": {
    "name": "ipython",
    "version": 3
   },
   "file_extension": ".py",
   "mimetype": "text/x-python",
   "name": "python",
   "nbconvert_exporter": "python",
   "pygments_lexer": "ipython3",
   "version": "3.8.0"
  },
  "varInspector": {
   "cols": {
    "lenName": 16,
    "lenType": 16,
    "lenVar": 40
   },
   "kernels_config": {
    "python": {
     "delete_cmd_postfix": "",
     "delete_cmd_prefix": "del ",
     "library": "var_list.py",
     "varRefreshCmd": "print(var_dic_list())"
    },
    "r": {
     "delete_cmd_postfix": ") ",
     "delete_cmd_prefix": "rm(",
     "library": "var_list.r",
     "varRefreshCmd": "cat(var_dic_list()) "
    }
   },
   "types_to_exclude": [
    "module",
    "function",
    "builtin_function_or_method",
    "instance",
    "_Feature"
   ],
   "window_display": false
  }
 },
 "nbformat": 4,
 "nbformat_minor": 4
}
