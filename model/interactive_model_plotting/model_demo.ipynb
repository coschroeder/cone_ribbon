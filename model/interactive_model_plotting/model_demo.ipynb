{
 "cells": [
  {
   "cell_type": "markdown",
   "metadata": {},
   "source": [
    "# Simulation of glutamate release at a ribbon synapse\n"
   ]
  },
  {
   "cell_type": "markdown",
   "metadata": {},
   "source": [
    "Run this notebook in google colab by clicking here:\n",
    "\n",
    "https://colab.research.google.com/github/coschroeder/cone_ribbon/blob/master/model/interactive_model_plotting/model_demo.ipynb"
   ]
  },
  {
   "cell_type": "markdown",
   "metadata": {},
   "source": [
    "### How to use the notebook\n",
    "You can run the simulation by running the two cells (code boxes) below. For running a cell, you have to click into the cell and press \"Ctrl\"+\"Enter\" or, in *google colab* by clicking on the small *play* symbol left to the cell. Afterwards you need to change a slider for the simulation to appear. Then change the paramerters and choose the stimulus as you want to.\n",
    "\n",
    "**TL;DR:** Run the cells below and change the values of the parameters with the sliders.\n",
    "\n",
    "### Parameter explanation\n",
    "- **RRP:** Readily releasable pool size of the ribbon\n",
    "- **IP:** Intermediate pool size of the ribbon\n",
    "- **Max. release rate:** Maximal release rate, given as a fraction of the RRP size.\n",
    "- **Stimulus:** \"Light\" stimulus\n",
    "- **Ca kernel (tau):** Time constant of the decay for a double exponential kernel. (For more details of the Calcium simulation see below) \n",
    "- **Time resolution:** Time resolution of the simulation. If you want to simulate high frequencies, decrease the time resolution. This results in longer runtimes, so be patient.\n",
    "- **Track changes:** If you tick this box, five subsequen simulation results will be displayed before the figure is reset.\n",
    "- **Clear plot:** Resets the figure internally for the next plotting event (If *Track changes* is ticked). \n",
    "\n",
    "\n"
   ]
  },
  {
   "cell_type": "code",
   "execution_count": null,
   "metadata": {},
   "outputs": [],
   "source": [
    "# run this cell the first time you use it to load the necessary files\n",
    "!npm install -g degit\n",
    "!npx degit github:coschroeder/cone_ribbon/model/interactive_model_plotting/ -f \n",
    "!npx degit github:coschroeder/cone_ribbon/model/model_implementation/   -f\n",
    "    \n",
    "# and import it    \n",
    "%load_ext autoreload\n",
    "%autoreload 2\n",
    "from utils_interactive import Ribbon_Plot"
   ]
  },
  {
   "cell_type": "code",
   "execution_count": 14,
   "metadata": {
    "scrolled": false
   },
   "outputs": [
    {
     "data": {
      "application/vnd.jupyter.widget-view+json": {
       "model_id": "bda9e7c977b44454a8ebf525ff00b804",
       "version_major": 2,
       "version_minor": 0
      },
      "text/plain": [
       "VBox(children=(GridspecLayout(children=(FloatSlider(value=4.0, continuous_update=False, description='RRP Size:…"
      ]
     },
     "metadata": {},
     "output_type": "display_data"
    }
   ],
   "source": [
    "# Set the figuresize matching best to your browser window/screensize.\n",
    "figuresize = (30,8)\n",
    "\n",
    "ribbon = Ribbon_Plot(figsize=figuresize)\n",
    "ribbon.plot_interactive_ribbon()"
   ]
  },
  {
   "cell_type": "markdown",
   "metadata": {},
   "source": [
    "### Ca simulation\n",
    "\n",
    "Ca concentration is simulated as following:\n",
    "\n",
    "$$Ca_{concentration} = Ca_{kernel} \\ast \\sigma(light\\_kernel \\ast stimulus),$$\n",
    "\n",
    "where $\\sigma$ is a non-linearty and light_kernel is a biphasic kernel from [1].\n",
    "\n",
    "[1] Baden, Tom, et al. \"A synaptic mechanism for temporal filtering of visual signals.\" PLoS Biol 12.10 (2014): e1001972."
   ]
  }
 ],
 "metadata": {
  "kernelspec": {
   "display_name": "Python 3",
   "language": "python",
   "name": "python3"
  },
  "varInspector": {
   "cols": {
    "lenName": 16,
    "lenType": 16,
    "lenVar": 40
   },
   "kernels_config": {
    "python": {
     "delete_cmd_postfix": "",
     "delete_cmd_prefix": "del ",
     "library": "var_list.py",
     "varRefreshCmd": "print(var_dic_list())"
    },
    "r": {
     "delete_cmd_postfix": ") ",
     "delete_cmd_prefix": "rm(",
     "library": "var_list.r",
     "varRefreshCmd": "cat(var_dic_list()) "
    }
   },
   "types_to_exclude": [
    "module",
    "function",
    "builtin_function_or_method",
    "instance",
    "_Feature"
   ],
   "window_display": false
  }
 },
 "nbformat": 4,
 "nbformat_minor": 4
}
