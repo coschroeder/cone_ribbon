{
 "cells": [
  {
   "cell_type": "markdown",
   "metadata": {},
   "source": [
    "# Simulate glutamate release at a ribbon synapse\n"
   ]
  },
  {
   "cell_type": "markdown",
   "metadata": {},
   "source": [
    "run this notebook in google colab by clicking here:\n",
    "\n",
    "https://colab.research.google.com/github/coschroeder/cone_ribbon/blob/master/model/interactive_model_plotting/model_demo.ipynb"
   ]
  },
  {
   "cell_type": "markdown",
   "metadata": {},
   "source": [
    "Choose the readily releasable pool (RRP) size and the intermediate pool (IP) size of the ribbon. \n",
    "\n",
    "The maximal release rate is given as a fraction of the RRP size.\n",
    "\n",
    "Run the cells below and change the values of the parameters with the three sliders.\n",
    "\n"
   ]
  },
  {
   "cell_type": "code",
   "execution_count": null,
   "metadata": {},
   "outputs": [],
   "source": [
    "# run this cell the first time you use it to load the necessary files\n",
    "!npm install -g degit\n",
    "!npx degit github:coschroeder/cone_ribbon/model/interactive_model_plotting/ -f \n",
    "!npx degit github:coschroeder/cone_ribbon/model/model_implementation/   -f"
   ]
  },
  {
   "cell_type": "code",
   "execution_count": 1,
   "metadata": {},
   "outputs": [],
   "source": [
    "%load_ext autoreload\n",
    "%autoreload 2\n",
    "from utils_interactive import Ribbon_Plot\n"
   ]
  },
  {
   "cell_type": "code",
   "execution_count": 13,
   "metadata": {
    "scrolled": false
   },
   "outputs": [
    {
     "data": {
      "application/vnd.jupyter.widget-view+json": {
       "model_id": "93e8f9845ffa4f1582011bcf5d0eb7fb",
       "version_major": 2,
       "version_minor": 0
      },
      "text/plain": [
       "VBox(children=(GridspecLayout(children=(FloatSlider(value=4.0, continuous_update=False, description='RRP Size:…"
      ]
     },
     "metadata": {},
     "output_type": "display_data"
    }
   ],
   "source": [
    "# set the figuresize matching best to your browser window/screensize\n",
    "figuresize = (30,8)\n",
    "ribbon = Ribbon_Plot(figsize=figuresize)\n",
    "ribbon.plot_interactive_ribbon()"
   ]
  },
  {
   "cell_type": "markdown",
   "metadata": {},
   "source": [
    "### Ca simulation\n",
    "\n",
    "Ca concentration is simulated as following:\n",
    "\n",
    "$$Ca_{concentration} = Ca_{kernel} \\ast \\sigma(light\\_kernel \\ast stimulus),$$\n",
    "\n",
    "where $\\sigma$ is a non-linearty and light_kernel is a biphasic kernel from [1].\n",
    "\n",
    "[1] Baden, Tom, et al. \"A synaptic mechanism for temporal filtering of visual signals.\" PLoS Biol 12.10 (2014): e1001972."
   ]
  }
 ],
 "metadata": {
  "kernelspec": {
   "display_name": "Python 3",
   "language": "python",
   "name": "python3"
  },
  "varInspector": {
   "cols": {
    "lenName": 16,
    "lenType": 16,
    "lenVar": 40
   },
   "kernels_config": {
    "python": {
     "delete_cmd_postfix": "",
     "delete_cmd_prefix": "del ",
     "library": "var_list.py",
     "varRefreshCmd": "print(var_dic_list())"
    },
    "r": {
     "delete_cmd_postfix": ") ",
     "delete_cmd_prefix": "rm(",
     "library": "var_list.r",
     "varRefreshCmd": "cat(var_dic_list()) "
    }
   },
   "types_to_exclude": [
    "module",
    "function",
    "builtin_function_or_method",
    "instance",
    "_Feature"
   ],
   "window_display": false
  }
 },
 "nbformat": 4,
 "nbformat_minor": 4
}
